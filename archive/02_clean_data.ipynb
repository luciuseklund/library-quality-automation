{
 "cells": [
  {
   "cell_type": "code",
   "execution_count": 3,
   "metadata": {},
   "outputs": [
    {
     "name": "stdout",
     "output_type": "stream",
     "text": [
      "Customer Data prev:\n"
     ]
    },
    {
     "data": {
      "text/html": [
       "<div>\n",
       "<style scoped>\n",
       "    .dataframe tbody tr th:only-of-type {\n",
       "        vertical-align: middle;\n",
       "    }\n",
       "\n",
       "    .dataframe tbody tr th {\n",
       "        vertical-align: top;\n",
       "    }\n",
       "\n",
       "    .dataframe thead th {\n",
       "        text-align: right;\n",
       "    }\n",
       "</style>\n",
       "<table border=\"1\" class=\"dataframe\">\n",
       "  <thead>\n",
       "    <tr style=\"text-align: right;\">\n",
       "      <th></th>\n",
       "      <th>Customer ID</th>\n",
       "      <th>Customer Name</th>\n",
       "    </tr>\n",
       "  </thead>\n",
       "  <tbody>\n",
       "    <tr>\n",
       "      <th>0</th>\n",
       "      <td>1.0</td>\n",
       "      <td>Jane Doe</td>\n",
       "    </tr>\n",
       "    <tr>\n",
       "      <th>1</th>\n",
       "      <td>2.0</td>\n",
       "      <td>John Smith</td>\n",
       "    </tr>\n",
       "    <tr>\n",
       "      <th>2</th>\n",
       "      <td>3.0</td>\n",
       "      <td>Dan Reeves</td>\n",
       "    </tr>\n",
       "    <tr>\n",
       "      <th>3</th>\n",
       "      <td>NaN</td>\n",
       "      <td>NaN</td>\n",
       "    </tr>\n",
       "    <tr>\n",
       "      <th>4</th>\n",
       "      <td>5.0</td>\n",
       "      <td>William Holden</td>\n",
       "    </tr>\n",
       "  </tbody>\n",
       "</table>\n",
       "</div>"
      ],
      "text/plain": [
       "   Customer ID   Customer Name\n",
       "0          1.0        Jane Doe\n",
       "1          2.0      John Smith\n",
       "2          3.0      Dan Reeves\n",
       "3          NaN             NaN\n",
       "4          5.0  William Holden"
      ]
     },
     "metadata": {},
     "output_type": "display_data"
    },
    {
     "name": "stdout",
     "output_type": "stream",
     "text": [
      "\n",
      " Missing Values in Customers:\n"
     ]
    },
    {
     "data": {
      "text/plain": [
       "Customer ID      1\n",
       "Customer Name    1\n",
       "dtype: int64"
      ]
     },
     "metadata": {},
     "output_type": "display_data"
    },
    {
     "name": "stdout",
     "output_type": "stream",
     "text": [
      "\n",
      " Missing Values in Books:\n"
     ]
    },
    {
     "data": {
      "text/plain": [
       "Id                        93\n",
       "Books                     94\n",
       "Book checkout             93\n",
       "Book Returned             93\n",
       "Days allowed to borrow    93\n",
       "Customer ID               94\n",
       "dtype: int64"
      ]
     },
     "metadata": {},
     "output_type": "display_data"
    },
    {
     "name": "stdout",
     "output_type": "stream",
     "text": [
      "\n",
      " Missing Values in Customers (After Cleaning):\n"
     ]
    },
    {
     "name": "stderr",
     "output_type": "stream",
     "text": [
      "C:\\Users\\Admin\\AppData\\Local\\Temp\\ipykernel_7120\\2670748250.py:32: FutureWarning: Setting an item of incompatible dtype is deprecated and will raise in a future error of pandas. Value 'Unknown' has dtype incompatible with float64, please explicitly cast to a compatible dtype first.\n",
      "  df_book.fillna('Unknown', inplace=True)\n"
     ]
    },
    {
     "data": {
      "text/plain": [
       "Series([], dtype: int64)"
      ]
     },
     "metadata": {},
     "output_type": "display_data"
    },
    {
     "name": "stdout",
     "output_type": "stream",
     "text": [
      "\n",
      " Missing Values in Books (After Cleaning):\n"
     ]
    },
    {
     "data": {
      "text/plain": [
       "Series([], dtype: int64)"
      ]
     },
     "metadata": {},
     "output_type": "display_data"
    },
    {
     "name": "stdout",
     "output_type": "stream",
     "text": [
      "\n",
      " Duplicates in Customers: 0\n",
      "\n",
      " Duplicates in Books: 92\n",
      "\n",
      " Duplicates in Customers after cleaning(de-dupe): 0\n",
      "\n",
      " Duplicates in Books after cleaning (de-dupe): 0\n"
     ]
    }
   ],
   "source": [
    "from load_data import load_csv\n",
    "from clean_data import clean_dataframe, clean_phone_and_email\n",
    "from save_results import save_cleaned_data\n",
    "\n",
    "# Load data\n",
    "data, source = load_csv()\n",
    "\n",
    "if data:\n",
    "    if isinstance(data, dict):  # Multiple files\n",
    "        for filename, df in data.items():\n",
    "            print(f\" Cleaning {filename}...\")\n",
    "            df = clean_dataframe(df)\n",
    "            df = clean_phone_and_email(df)\n",
    "            save_cleaned_data(df, filename)\n",
    "    else:  # Single file\n",
    "        df, filename = data\n",
    "        print(f\" Cleaning {filename}...\")\n",
    "        df = clean_dataframe(df)\n",
    "        df = clean_phone_and_email(df)\n",
    "        save_cleaned_data(df, filename)\n"
   ]
  }
 ],
 "metadata": {
  "kernelspec": {
   "display_name": "base",
   "language": "python",
   "name": "python3"
  },
  "language_info": {
   "codemirror_mode": {
    "name": "ipython",
    "version": 3
   },
   "file_extension": ".py",
   "mimetype": "text/x-python",
   "name": "python",
   "nbconvert_exporter": "python",
   "pygments_lexer": "ipython3",
   "version": "3.11.7"
  }
 },
 "nbformat": 4,
 "nbformat_minor": 2
}
